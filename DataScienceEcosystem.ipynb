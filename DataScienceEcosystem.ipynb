{
  "metadata": {
    "kernelspec": {
      "name": "python",
      "display_name": "Python (Pyodide)",
      "language": "python"
    },
    "language_info": {
      "codemirror_mode": {
        "name": "python",
        "version": 3
      },
      "file_extension": ".py",
      "mimetype": "text/x-python",
      "name": "python",
      "nbconvert_exporter": "python",
      "pygments_lexer": "ipython3",
      "version": "3.8"
    }
  },
  "nbformat_minor": 4,
  "nbformat": 4,
  "cells": [
    {
      "cell_type": "markdown",
      "source": "# Data Science Tools and Ecosystem",
      "metadata": {}
    },
    {
      "cell_type": "markdown",
      "source": "**This note book is a handout for the first peer reviewed in the IBM's Data Scientist course.**\n\n***I am only doing this because i am told to.***",
      "metadata": {}
    },
    {
      "cell_type": "markdown",
      "source": "**Objectives:**\n- List data science languages.\n- List libraries used in data science.\n- Cover markdown options.\n- Python coding.\n- introduction to data science tools.\n- Make me practice markdown language.",
      "metadata": {}
    },
    {
      "cell_type": "markdown",
      "source": "**So, here are the languages you can use in data science:**\n1. Python.\n2. R.\n3. Julia.\n\n***PS: i am soooo gonna use Python.***",
      "metadata": {}
    },
    {
      "cell_type": "markdown",
      "source": "**And those are some libraries you would use for data sciencde:**\n1. pandas.\n2. numpy.\n3. matplotlib.\n\n***PS: those are only found in Python, but of cousre, you already know that. Shame on you if you don't.***",
      "metadata": {}
    },
    {
      "cell_type": "markdown",
      "source": "|Data Science Tools|\n|---|\n|**Jupyter**|\n|RStudio|\n|Ray|\n\n***PS: i marked the one we are using now. Can you spot it?***",
      "metadata": {}
    },
    {
      "cell_type": "markdown",
      "source": "### Arithmetic operations are what we do with ease and do not require much thinking. Normally you can spot them by seeing one or more of the following signs: +, -, X, /... etc. You can do this by hand or using your brain, but if they are complex use a callculator.\n### Here, however, we are told to use Python language. try and calculate them on your own to exercise your brain a little bit",
      "metadata": {}
    },
    {
      "cell_type": "code",
      "source": "# this one is rather simple, do it using your brain\n# then compare your result with the code's output\n# this way you can make sure python is doing math right\n(3*4)+5",
      "metadata": {
        "trusted": true
      },
      "outputs": [
        {
          "execution_count": 2,
          "output_type": "execute_result",
          "data": {
            "text/plain": "17"
          },
          "metadata": {}
        }
      ],
      "execution_count": 2
    },
    {
      "cell_type": "code",
      "source": "# normal printing operation, the only exception is that:\n# we did operations and feed it into the print function using format handelling\n# int here converst float number into integers\nprint(\"200 minutes is equal to {} hours and {} minutes\".format(int(200 / 60), 200 % 60))",
      "metadata": {
        "trusted": true
      },
      "outputs": [
        {
          "name": "stdout",
          "text": "200 minutes is equal to 3 hours and 20 minutes\n",
          "output_type": "stream"
        }
      ],
      "execution_count": 8
    },
    {
      "cell_type": "markdown",
      "source": "## Author\nMohammed Omer",
      "metadata": {}
    },
    {
      "cell_type": "code",
      "source": "",
      "metadata": {
        "trusted": true
      },
      "outputs": [],
      "execution_count": null
    }
  ]
}